{
 "cells": [
  {
   "cell_type": "markdown",
   "id": "ad3b2cbb-4779-423b-a151-403d07aa48a7",
   "metadata": {},
   "source": [
    "\n",
    "dv xd\n"
   ]
  },
  {
   "cell_type": "code",
   "execution_count": null,
   "id": "e82e2a48-df40-4561-a7f9-eb8e23b51f45",
   "metadata": {},
   "outputs": [],
   "source": []
  },
  {
   "cell_type": "code",
   "execution_count": null,
   "id": "f7c76c4d-89bf-4b1a-9f92-819f23ef1a40",
   "metadata": {},
   "outputs": [],
   "source": []
  }
 ],
 "metadata": {
  "kernelspec": {
   "display_name": "Python 3 (ipykernel)",
   "language": "python",
   "name": "python3"
  },
  "language_info": {
   "codemirror_mode": {
    "name": "ipython",
    "version": 3
   },
   "file_extension": ".py",
   "mimetype": "text/x-python",
   "name": "python",
   "nbconvert_exporter": "python",
   "pygments_lexer": "ipython3",
   "version": "3.12.3"
  }
 },
 "nbformat": 4,
 "nbformat_minor": 5
}
